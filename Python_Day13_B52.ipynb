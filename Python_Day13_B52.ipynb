{
 "cells": [
  {
   "cell_type": "code",
   "execution_count": 33,
   "id": "0cee149f",
   "metadata": {},
   "outputs": [],
   "source": [
    "class dog:\n",
    "    \"\"\"creating a dog class\"\"\"\n",
    "    def __init__(self,name,age):\n",
    "        self.name = name\n",
    "        self.age = age\n",
    "    \n",
    "    def jump(self):\n",
    "        print(f\"{self.name} is now jumping on our command\")\n",
    "              \n",
    "    def rollover(self):\n",
    "        print(f\"{self.name} is now rolling over the bed on our command\")\n",
    "              \n",
    "    def eat(self):\n",
    "        print(f\"{self.name} is now eating on our command\")\n",
    "              \n",
    "    def sleep(self):\n",
    "        print(f\"{self.name} is sleeping on our command\")\n",
    "              \n",
    "    def details(self):\n",
    "        print(f\"My dog name is {self.name} he is {self.age} years old\")"
   ]
  },
  {
   "cell_type": "code",
   "execution_count": 35,
   "id": "725361ca",
   "metadata": {},
   "outputs": [],
   "source": [
    "x = dog('bruno',5)"
   ]
  },
  {
   "cell_type": "code",
   "execution_count": 28,
   "id": "c8a8fc6c",
   "metadata": {},
   "outputs": [
    {
     "name": "stdout",
     "output_type": "stream",
     "text": [
      "bruno is now jumping on our command\n"
     ]
    }
   ],
   "source": [
    "x.jump()"
   ]
  },
  {
   "cell_type": "code",
   "execution_count": 29,
   "id": "9266510a",
   "metadata": {},
   "outputs": [
    {
     "name": "stdout",
     "output_type": "stream",
     "text": [
      "bruno is now rolling over the bed on our command\n"
     ]
    }
   ],
   "source": [
    "x.rollover()"
   ]
  },
  {
   "cell_type": "code",
   "execution_count": 30,
   "id": "83a931e3",
   "metadata": {},
   "outputs": [
    {
     "name": "stdout",
     "output_type": "stream",
     "text": [
      "bruno is now eating on our command\n"
     ]
    }
   ],
   "source": [
    "x.eat()"
   ]
  },
  {
   "cell_type": "code",
   "execution_count": 31,
   "id": "65c1b5d3",
   "metadata": {},
   "outputs": [
    {
     "name": "stdout",
     "output_type": "stream",
     "text": [
      "bruno is sleeping on our command\n"
     ]
    }
   ],
   "source": [
    "x.sleep()"
   ]
  },
  {
   "cell_type": "code",
   "execution_count": 36,
   "id": "763c6c1e",
   "metadata": {},
   "outputs": [
    {
     "name": "stdout",
     "output_type": "stream",
     "text": [
      "My dog name is bruno he is 5 years old\n"
     ]
    }
   ],
   "source": [
    "x.details()"
   ]
  },
  {
   "cell_type": "code",
   "execution_count": null,
   "id": "78fd4921",
   "metadata": {},
   "outputs": [],
   "source": []
  },
  {
   "cell_type": "code",
   "execution_count": null,
   "id": "65fc59a3",
   "metadata": {},
   "outputs": [],
   "source": []
  }
 ],
 "metadata": {
  "kernelspec": {
   "display_name": "Python 3 (ipykernel)",
   "language": "python",
   "name": "python3"
  },
  "language_info": {
   "codemirror_mode": {
    "name": "ipython",
    "version": 3
   },
   "file_extension": ".py",
   "mimetype": "text/x-python",
   "name": "python",
   "nbconvert_exporter": "python",
   "pygments_lexer": "ipython3",
   "version": "3.9.7"
  }
 },
 "nbformat": 4,
 "nbformat_minor": 5
}
